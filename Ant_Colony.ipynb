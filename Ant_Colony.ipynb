{
  "nbformat": 4,
  "nbformat_minor": 0,
  "metadata": {
    "colab": {
      "provenance": [],
      "authorship_tag": "ABX9TyNz3NKN6L48BLi+c+p00DOr",
      "include_colab_link": true
    },
    "kernelspec": {
      "name": "python3",
      "display_name": "Python 3"
    },
    "language_info": {
      "name": "python"
    }
  },
  "cells": [
    {
      "cell_type": "markdown",
      "metadata": {
        "id": "view-in-github",
        "colab_type": "text"
      },
      "source": [
        "<a href=\"https://colab.research.google.com/github/DeepPandya30/Minor-Project/blob/main/Ant_Colony.ipynb\" target=\"_parent\"><img src=\"https://colab.research.google.com/assets/colab-badge.svg\" alt=\"Open In Colab\"/></a>"
      ]
    },
    {
      "cell_type": "code",
      "execution_count": null,
      "metadata": {
        "colab": {
          "base_uri": "https://localhost:8080/",
          "height": 228
        },
        "id": "dzIATQJF6NdK",
        "outputId": "e559271f-ec95-47fb-c8e4-c5ff42633221"
      },
      "outputs": [
        {
          "output_type": "stream",
          "name": "stdout",
          "text": [
            "Generation 1: Best Path = [(0, 0), (1, 0), (2, 0), (3, 0), (2, 0), (3, 0), (3, 1), (4, 1), (4, 2), (3, 2), (4, 2), (4, 3), (5, 3), (5, 4), (5, 5)], Length = 15\n",
            "Generation 2: Best Path = [(0, 0), (1, 0), (2, 0), (2, 1), (1, 1), (1, 0), (2, 0), (3, 0), (4, 0), (5, 0), (5, 1), (5, 2), (5, 3), (5, 4), (5, 5)], Length = 15\n",
            "Generation 3: Best Path = [(0, 0), (1, 0), (1, 1), (1, 2), (1, 1), (2, 1), (3, 1), (3, 2), (4, 2), (5, 2), (5, 3), (5, 4), (5, 5)], Length = 13\n",
            "Generation 4: Best Path = [(0, 0), (0, 1), (0, 0), (1, 0), (1, 1), (1, 2), (1, 3), (2, 3), (2, 4), (3, 4), (2, 4), (2, 5), (3, 5), (4, 5), (5, 5)], Length = 15\n",
            "Generation 5: Best Path = [(0, 0), (1, 0), (2, 0), (2, 1), (3, 1), (4, 1), (4, 2), (5, 2), (5, 3), (5, 4), (5, 5)], Length = 11\n",
            "Generation 6: Best Path = [(0, 0), (1, 0), (1, 1), (1, 2), (1, 1), (2, 1), (1, 1), (1, 2), (1, 3), (1, 2), (1, 3), (2, 3), (1, 3), (0, 3), (1, 3), (2, 3), (2, 4), (3, 4), (3, 5), (4, 5), (5, 5)], Length = 21\n",
            "Generation 7: Best Path = [(0, 0), (1, 0), (1, 1), (1, 0), (1, 1), (2, 1), (3, 1), (3, 2), (3, 1), (4, 1), (4, 2), (4, 3), (5, 3), (5, 4), (5, 5)], Length = 15\n",
            "Generation 8: Best Path = [(0, 0), (1, 0), (2, 0), (3, 0), (3, 1), (4, 1), (3, 1), (3, 2), (4, 2), (5, 2), (5, 3), (5, 4), (5, 5)], Length = 13\n",
            "Generation 9: Best Path = [(0, 0), (1, 0), (2, 0), (2, 1), (1, 1), (2, 1), (3, 1), (4, 1), (5, 1), (5, 2), (5, 3), (5, 4), (5, 5)], Length = 13\n",
            "Generation 10: Best Path = [(0, 0), (1, 0), (1, 1), (1, 2), (1, 3), (1, 2), (1, 3), (2, 3), (2, 4), (3, 4), (3, 5), (4, 5), (5, 5)], Length = 13\n"
          ]
        },
        {
          "output_type": "display_data",
          "data": {
            "text/plain": [
              "<Figure size 600x600 with 1 Axes>"
            ],
            "image/png": "[encoded data removed]"
          },
          "metadata": {}
        }
      ],
      "source": [
        "import random\n",
        "import numpy as np\n",
        "import matplotlib.pyplot as plt\n",
        "\n",
        "# Define Grid Environment\n",
        "GRID_SIZE = 6  # 6x6 Grid\n",
        "START = (0, 0)\n",
        "GOAL = (5, 5)\n",
        "OBSTACLES = {(2, 2), (3, 3), (1, 4)}  # Set of obstacle coordinates\n",
        "\n",
        "# Parameters for ACO\n",
        "NUM_ANTS = 10\n",
        "EVAPORATION_RATE = 0.2\n",
        "PHEROMONE_IMPORTANCE = 1.0\n",
        "HEURISTIC_IMPORTANCE = 2.0\n",
        "INITIAL_PHEROMONE = 1.0\n",
        "\n",
        "# Initialize Pheromone Grid\n",
        "pheromones = np.ones((GRID_SIZE, GRID_SIZE)) * INITIAL_PHEROMONE\n",
        "\n",
        "# Generate available moves\n",
        "def get_valid_moves(x, y):\n",
        "    moves = [(x+1, y), (x, y+1), (x-1, y), (x, y-1)]\n",
        "    return [(nx, ny) for nx, ny in moves if 0 <= nx < GRID_SIZE and 0 <= ny < GRID_SIZE and (nx, ny) not in OBSTACLES]\n",
        "\n",
        "# Ant movement based on pheromone and heuristic information\n",
        "def ant_walk():\n",
        "    path = [START]\n",
        "    x, y = START\n",
        "    while (x, y) != GOAL:\n",
        "        moves = get_valid_moves(x, y)\n",
        "        if not moves:\n",
        "            return []  # Dead end\n",
        "\n",
        "        # Compute probabilities based on pheromones and heuristic (distance to goal)\n",
        "        probabilities = []\n",
        "        for nx, ny in moves:\n",
        "            pheromone = pheromones[nx, ny] ** PHEROMONE_IMPORTANCE\n",
        "            heuristic = (1.0 / (abs(GOAL[0] - nx) + abs(GOAL[1] - ny) + 1)) ** HEURISTIC_IMPORTANCE\n",
        "            probabilities.append(pheromone * heuristic)\n",
        "\n",
        "        probabilities = np.array(probabilities) / sum(probabilities)\n",
        "        next_move = moves[np.random.choice(len(moves), p=probabilities)]\n",
        "        path.append(next_move)\n",
        "        x, y = next_move\n",
        "    return path\n",
        "\n",
        "# Update Pheromones\n",
        "def update_pheromones(paths):\n",
        "    global pheromones\n",
        "    pheromones *= (1 - EVAPORATION_RATE)  # Evaporation\n",
        "    for path in paths:\n",
        "        if path:\n",
        "            reward = 1.0 / len(path)  # Shorter paths get higher rewards\n",
        "            for x, y in path:\n",
        "                pheromones[x, y] += reward\n",
        "\n",
        "# Run ACO Algorithm\n",
        "def ant_colony_optimization(generations=10):\n",
        "    best_path = []\n",
        "    for gen in range(generations):\n",
        "        paths = [ant_walk() for _ in range(NUM_ANTS)]\n",
        "        best_path = min([p for p in paths if p], key=len, default=best_path)\n",
        "        update_pheromones(paths)\n",
        "        print(f\"Generation {gen+1}: Best Path = {best_path}, Length = {len(best_path)}\")\n",
        "    plot_path(best_path)\n",
        "\n",
        "# Plot the Best Path\n",
        "def plot_path(best_path):\n",
        "    grid = np.zeros((GRID_SIZE, GRID_SIZE))\n",
        "    for ox, oy in OBSTACLES:\n",
        "        grid[ox, oy] = -1  # Mark obstacles\n",
        "\n",
        "    path_x, path_y = zip(*best_path)\n",
        "    plt.figure(figsize=(6,6))\n",
        "    plt.imshow(grid, cmap='gray_r', origin='lower')\n",
        "    plt.plot(path_y, path_x, marker='o', color='b', label='Best Path')\n",
        "    plt.scatter(START[1], START[0], color='g', marker='s', s=100, label='Start')\n",
        "    plt.scatter(GOAL[1], GOAL[0], color='r', marker='s', s=100, label='Goal')\n",
        "    plt.legend()\n",
        "    plt.grid(True)\n",
        "    plt.xticks(range(GRID_SIZE))\n",
        "    plt.yticks(range(GRID_SIZE))\n",
        "    plt.show()\n",
        "\n",
        "# Run ACO for Path Planning\n",
        "ant_colony_optimization()\n"
      ]
    },
    {
      "cell_type": "code",
      "source": [],
      "metadata": {
        "id": "hxaAMesm6Ygu"
      },
      "execution_count": null,
      "outputs": []
    }
  ]
}